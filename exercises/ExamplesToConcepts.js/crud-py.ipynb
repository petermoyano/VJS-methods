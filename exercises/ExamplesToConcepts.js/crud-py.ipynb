{
 "cells": [
  {
   "cell_type": "code",
   "execution_count": 14,
   "metadata": {},
   "outputs": [
    {
     "name": "stdout",
     "output_type": "stream",
     "text": [
      "list1_copy [1, 2, 3, 4, 5, 6, 7, 8, 9, 10]\n",
      "[1, 2, 3, 4, 5, 6, 7, 8, 9, 10]\n",
      "[1, 3, 4, 5, 6, 7, 8, 9, 10]\n",
      "[1, 4, 5, 6, 7, 8, 9, 10]\n",
      "[1, 5, 6, 7, 8, 9, 10]\n",
      "<class 'str'>\n",
      "<class 'str'>\n"
     ]
    }
   ],
   "source": [
    "# deleting elements from a list with splicing\n",
    "list1 = [1,2,3,4,5,6,7,8,9,10]\n",
    "list1_copy = list1[:]\n",
    "print(\"list1_copy\", list1_copy)\n",
    "print(list1)\n",
    "del list1[1] # using the del keyword\n",
    "print(list1)\n",
    "list1[1:2] = [] # splicing\n",
    "print(list1)\n",
    "list1.remove(4) # using the remove list method\n",
    "print(list1)\n",
    "print(type(format(2)))\n",
    "print(type(format(23.35)))"
   ]
  },
  {
   "cell_type": "code",
   "execution_count": null,
   "metadata": {},
   "outputs": [],
   "source": []
  }
 ],
 "metadata": {
  "kernelspec": {
   "display_name": "Python 3",
   "language": "python",
   "name": "python3"
  },
  "language_info": {
   "codemirror_mode": {
    "name": "ipython",
    "version": 3
   },
   "file_extension": ".py",
   "mimetype": "text/x-python",
   "name": "python",
   "nbconvert_exporter": "python",
   "pygments_lexer": "ipython3",
   "version": "3.10.12"
  }
 },
 "nbformat": 4,
 "nbformat_minor": 2
}
